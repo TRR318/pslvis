{
 "cells": [
  {
   "cell_type": "code",
   "execution_count": 43,
   "metadata": {},
   "outputs": [],
   "source": [
    "from sklearn.datasets import fetch_openml\n",
    "from sklearn.compose import ColumnTransformer\n",
    "from sklearn.preprocessing import FunctionTransformer\n",
    "import numpy as np\n",
    "import pandas as pd"
   ]
  },
  {
   "cell_type": "code",
   "execution_count": 44,
   "metadata": {},
   "outputs": [],
   "source": [
    "X_, y_ = fetch_openml(data_id=43141, as_frame=True, return_X_y=True)"
   ]
  },
  {
   "cell_type": "code",
   "execution_count": 45,
   "metadata": {},
   "outputs": [
    {
     "data": {
      "text/plain": [
       "Index(['Alter', 'Staatsangestellt', 'Privatwirt. angestellt', 'Selbstständig',\n",
       "       'Bildungsgrad', 'Handwerk', 'Dienstleistung', 'Migrationshintergrund',\n",
       "       'Wochenarbeitsstunden', 'Weiblich', 'Person of Color'],\n",
       "      dtype='object')"
      ]
     },
     "execution_count": 45,
     "metadata": {},
     "output_type": "execute_result"
    }
   ],
   "source": [
    "def create_transformer(cond):\n",
    "    return FunctionTransformer(lambda x: np.where(cond(x), 1, 0), feature_names_out=lambda _:None)\n",
    "\n",
    "\n",
    "\n",
    "ct = ColumnTransformer(\n",
    "    [\n",
    "        (\"Alter\", \"passthrough\", [\"AGEP\"]),\n",
    "        (\"Staatsangestellt\", create_transformer(lambda x: x.isin([3, 4, 5])), [\"COW\"]),\n",
    "        (\"Privatwirt. angestellt\", create_transformer(lambda x: x.isin([1, 2])), [\"COW\"]),\n",
    "        (\"Selbstständig\", create_transformer(lambda x: x.isin([6, 7])), [\"COW\"]),\n",
    "        (\"Bildungsgrad\", \"passthrough\", [\"SCHL\"]),\n",
    "        (\"Handwerk\", create_transformer(lambda x: (x >= 6050) & (x <= 9760)), [\"OCCP\"]),\n",
    "        ('Dienstleistung', create_transformer(lambda x: (x >= 10) & (x <= 5940)), ['OCCP']),\n",
    "        ('Migrationshintergrund', create_transformer(lambda x: x >= 100), ['POBP']),\n",
    "        ('Wochenarbeitsstunden', 'passthrough', ['WKHP']),\n",
    "        ('Weiblich', create_transformer(lambda x: x == 2), ['SEX']),\n",
    "        ('Person of Color', create_transformer(lambda x:x != 1) , ['RAC1P']),\n",
    "    ]\n",
    ")\n",
    "\n",
    "ct.set_output(transform='pandas')\n",
    "X = ct.fit_transform(X_)\n",
    "X.columns = [x.split(\"__\")[0] for x in X.columns]\n",
    "X.columns"
   ]
  },
  {
   "cell_type": "code",
   "execution_count": 46,
   "metadata": {},
   "outputs": [],
   "source": [
    "y = np.array(y_>np.median(y_), dtype=int)\n",
    "X.insert(0,\"Einkommen\", y)\n"
   ]
  },
  {
   "cell_type": "code",
   "execution_count": 54,
   "metadata": {},
   "outputs": [],
   "source": [
    "X.sample(1000).to_csv(\"ACSIncome.csv\", index=False)"
   ]
  }
 ],
 "metadata": {
  "kernelspec": {
   "display_name": "responsive-psl-bLpMItoQ-py3.11",
   "language": "python",
   "name": "python3"
  },
  "language_info": {
   "codemirror_mode": {
    "name": "ipython",
    "version": 3
   },
   "file_extension": ".py",
   "mimetype": "text/x-python",
   "name": "python",
   "nbconvert_exporter": "python",
   "pygments_lexer": "ipython3",
   "version": "3.12.4"
  }
 },
 "nbformat": 4,
 "nbformat_minor": 2
}

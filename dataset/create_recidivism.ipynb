{
 "cells": [
  {
   "cell_type": "code",
   "execution_count": 11,
   "metadata": {},
   "outputs": [],
   "source": [
    "import pandas as pd\n",
    "from sklearn.compose import ColumnTransformer\n",
    "from sklearn.preprocessing import FunctionTransformer\n",
    "import re\n",
    "import numpy as np"
   ]
  },
  {
   "cell_type": "code",
   "execution_count": 23,
   "metadata": {},
   "outputs": [],
   "source": [
    "df = pd.read_csv(r'/home/sheid/Project/pslvis/dataset/Recidivism.csv')\n",
    "df = df.drop(columns=['Fiscal Year Released', 'Recidivism Reporting Year'])\n",
    "X_ = df.iloc[:,:-1]\n",
    "y_ = df.iloc[:,-1]"
   ]
  },
  {
   "cell_type": "code",
   "execution_count": 77,
   "metadata": {},
   "outputs": [
    {
     "data": {
      "text/plain": [
       "Index(['Race - Ethnicity', 'Age At Release ',\n",
       "       'Convicting Offense Classification', 'Convicting Offense Type',\n",
       "       'Convicting Offense Subtype', 'Main Supervising District',\n",
       "       'Release Type', 'Release type: Paroled to Detainder united',\n",
       "       'Part of Target Population'],\n",
       "      dtype='object')"
      ]
     },
     "execution_count": 77,
     "metadata": {},
     "output_type": "execute_result"
    }
   ],
   "source": [
    "X_.columns"
   ]
  },
  {
   "cell_type": "code",
   "execution_count": 78,
   "metadata": {},
   "outputs": [
    {
     "name": "stderr",
     "output_type": "stream",
     "text": [
      "/tmp/ipykernel_30856/2976875330.py:13: RuntimeWarning: Mean of empty slice.\n",
      "  (\"Alter\", FunctionTransformer(lambda x: x.map(lambda x_: np.nan_to_num(np.array([int(e) for e in re.findall(\"\\\\d+\", str(x_))]).mean(), nan=39).astype(int))), [\"Age At Release \"]),\n",
      "/home/sheid/.cache/pypoetry/virtualenvs/pslvis-ssQ-I2no-py3.12/lib/python3.12/site-packages/numpy/core/_methods.py:129: RuntimeWarning: invalid value encountered in scalar divide\n",
      "  ret = ret.dtype.type(ret / rcount)\n"
     ]
    },
    {
     "data": {
      "text/plain": [
       "Index(['Person of Color', 'Verbrechen (nicht Vergehen)', 'Drogendelikt',\n",
       "       'Eigentumsdelikt', 'Gewaltdelikt', 'Alter', 'Vorzeitige Entlassung'],\n",
       "      dtype='object')"
      ]
     },
     "execution_count": 78,
     "metadata": {},
     "output_type": "execute_result"
    }
   ],
   "source": [
    "def create_transformer(cond):\n",
    "    return FunctionTransformer(lambda x: np.where(cond(x), 1, 0), feature_names_out=lambda _:None)\n",
    "\n",
    "\n",
    "\n",
    "ct = ColumnTransformer(\n",
    "    [\n",
    "        ('Person of Color', create_transformer(lambda x: x != \"White - Non-Hispanic\") , ['Race - Ethnicity']),\n",
    "        ('Verbrechen (nicht Vergehen)', FunctionTransformer(lambda x: x.map(lambda x_: \"Felony\" in x_)) , ['Convicting Offense Classification']),\n",
    "        (\"Drogendelikt\", create_transformer(lambda x: x == \"Drug\"), [\"Convicting Offense Type\"]),\n",
    "        (\"Eigentumsdelikt\", create_transformer(lambda x: x == \"Property\"), [\"Convicting Offense Type\"]),\n",
    "        (\"Gewaltdelikt\", create_transformer(lambda x: x == \"Violent\"), [\"Convicting Offense Type\"]),\n",
    "        (\"Alter\", FunctionTransformer(lambda x: x.map(lambda x_: np.nan_to_num(np.array([int(e) for e in re.findall(\"\\\\d+\", str(x_))]).mean(), nan=39).astype(int))), [\"Age At Release \"]),\n",
    "        (\"Vorzeitige Entlassung\", create_transformer(lambda x:  x != \"Parole\"), [\"Release Type\"]),\n",
    "    ]\n",
    ")\n",
    "\n",
    "ct.set_output(transform='pandas')\n",
    "X = ct.fit_transform(X_)\n",
    "X.columns = [x.split(\"__\")[0] for x in X.columns]\n",
    "X.columns"
   ]
  },
  {
   "cell_type": "code",
   "execution_count": 80,
   "metadata": {},
   "outputs": [],
   "source": [
    "X.insert(0,\"Rückfällig\", y_)\n",
    "X.to_csv(\"Recidivism_clean.csv\", index=False)"
   ]
  }
 ],
 "metadata": {
  "kernelspec": {
   "display_name": "pslvis-ssQ-I2no-py3.12",
   "language": "python",
   "name": "python3"
  },
  "language_info": {
   "codemirror_mode": {
    "name": "ipython",
    "version": 3
   },
   "file_extension": ".py",
   "mimetype": "text/x-python",
   "name": "python",
   "nbconvert_exporter": "python",
   "pygments_lexer": "ipython3",
   "version": "3.12.3"
  }
 },
 "nbformat": 4,
 "nbformat_minor": 2
}

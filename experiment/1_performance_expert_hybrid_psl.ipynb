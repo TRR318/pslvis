{
 "cells": [
  {
   "cell_type": "code",
   "execution_count": 1,
   "metadata": {},
   "outputs": [],
   "source": [
    "import pandas as pd\n",
    "import seaborn as sns\n",
    "from skpsl import ProbabilisticScoringList\n",
    "from matplotlib import pyplot as plt\n",
    "\n",
    "dburl = \"\""
   ]
  },
  {
   "cell_type": "markdown",
   "metadata": {},
   "source": [
    "## psl influence on decision time\n",
    "\n",
    "decision time on the 10 samples\n",
    "- expert\n",
    "- expert + psl\n",
    "\n",
    "Normalized wrt. learning effect:\n",
    "- plot decision times over time in phase 1 and 2\n",
    "- check if the first couple of decisions are perhaps outliers."
   ]
  },
  {
   "cell_type": "code",
   "execution_count": 2,
   "metadata": {},
   "outputs": [
    {
     "data": {
      "text/plain": [
       "<Axes: >"
      ]
     },
     "execution_count": 2,
     "metadata": {},
     "output_type": "execute_result"
    },
    {
     "data": {
      "image/png": "[encoded data removed]",
      "text/plain": [
       "<Figure size 640x480 with 1 Axes>"
      ]
     },
     "metadata": {},
     "output_type": "display_data"
    }
   ],
   "source": [
    "df = pd.read_csv(\"experiment/PageTimes-2024-09-11-processed.csv\").filter(like=\"Assessment\")\n",
    "df.rename(columns=lambda col: f'a{1+int(col.split('_')[-1])}' if 'FirstAssessment' in col else f'b{1+int(col.split('_')[-1])}' if 'SecondAssessment' in col else col, inplace=True)\n",
    "sns.barplot(df)"
   ]
  },
  {
   "cell_type": "code",
   "execution_count": 3,
   "metadata": {},
   "outputs": [
    {
     "data": {
      "text/plain": [
       "61.302083333333336"
      ]
     },
     "execution_count": 3,
     "metadata": {},
     "output_type": "execute_result"
    }
   ],
   "source": [
    "# cut of the first stage\n",
    "df_ = df[[x for x in df.columns if \"1\" not in x]]\n",
    "# average decision time across all participents and stages ommiting nan values\n",
    "df_.stack().mean()"
   ]
  },
  {
   "cell_type": "code",
   "execution_count": 4,
   "metadata": {},
   "outputs": [
    {
     "data": {
      "text/plain": [
       "<Axes: xlabel='prefix', ylabel='value'>"
      ]
     },
     "execution_count": 4,
     "metadata": {},
     "output_type": "execute_result"
    },
    {
     "data": {
      "image/png": "[encoded data removed]",
      "text/plain": [
       "<Figure size 640x480 with 1 Axes>"
      ]
     },
     "metadata": {},
     "output_type": "display_data"
    }
   ],
   "source": [
    "\n",
    "df_melted = pd.melt(df_, var_name='category', value_name='value')\n",
    "\n",
    "# Create a new column to capture the prefix (e.g., 'a' or 'b')\n",
    "df_melted['prefix'] = df_melted['category'].str[0]\n",
    "sns.barplot(df_melted, x=\"prefix\", y=\"value\")"
   ]
  },
  {
   "cell_type": "markdown",
   "metadata": {},
   "source": [
    "## Performance comparison\n",
    "\n",
    "sample of 10 people\n",
    "brier score of expert\n",
    "brier score of expert + psl\n",
    "brier score of datadriven psl"
   ]
  },
  {
   "cell_type": "code",
   "execution_count": 5,
   "metadata": {},
   "outputs": [
    {
     "data": {
      "text/plain": [
       "{'8NEtzA': 'schüler-ing-bin',\n",
       " 'LN3JTA': 'schüler-ing-bin',\n",
       " 'AX6jaw': 'schüler-ing-bin',\n",
       " 'ZligBg': 'schüler-ing-bin',\n",
       " 'Dlh1Ug': 'schüler-wiwi-bin',\n",
       " '7P-hCA': 'schüler-mathe-bin',\n",
       " 'GGPALw': 'schüler-*-bin'}"
      ]
     },
     "execution_count": 5,
     "metadata": {},
     "output_type": "execute_result"
    }
   ],
   "source": [
    "def fit_psl(dataset, features=None, scores=None, k=\"predef\"):\n",
    "    match dataset:\n",
    "        case \"schüler-ing-bin\":\n",
    "            data = pd.read_csv(\"dataset/schüler_pslvis_ERFOLG_train_ONLY_Ingenieur Studium_binary.csv\")\n",
    "        case \"schüler-wiwi-bin\":\n",
    "            # this experiment \"Dlh1Ug\" has actually been done with the non-binary dataset, but was later relabeled\n",
    "            data = pd.read_csv(\"dataset/schüler_pslvis_ERFOLG_train_ONLY_Rechts Wirtschafts Sozial Studium.csv\")\n",
    "        case \"schüler-mathe-bin\":\n",
    "            data = pd.read_csv(\"dataset/schüler_pslvis_ERFOLG_train_ONLY_Mathe Natur Studium_binary.csv\")\n",
    "        case \"schüler-*-bin\":\n",
    "            data = pd.read_csv(\"dataset/schüler_pslvis_ERFOLG_train_binary.csv\")\n",
    "        case _:\n",
    "            raise ValueError()\n",
    "    X = data.iloc[:, 1:]\n",
    "    y = data.iloc[:, 0]\n",
    "\n",
    "    psl = ProbabilisticScoringList({-3, -2, -1, 0, 1, 2, 3})\n",
    "    if features is None:\n",
    "        return psl.fit(X,y)\n",
    "    scores = [scores[f_] for f_ in features]\n",
    "   \n",
    "    return psl.fit(X, y, predef_features=features, predef_scores=scores, k=k)\n",
    "\n",
    "\n",
    "df = pd.read_csv(\"experiment/all_apps_wide-2024-09-16.csv\")\n",
    "df = df[df[\"participant._current_app_name\"].notna()]\n",
    "\n",
    "app_logentry = pd.read_sql_table(\"app_logentry\", dburl)\n",
    "app_pslparam = pd.read_sql_table(\"app_pslparam\", dburl)\n",
    "app_subject = pd.read_sql_table(\"app_subject\", dburl)\n",
    "app_dataset = pd.read_sql_table(\"app_dataset\", dburl)\n",
    "app_experiment = pd.read_sql_table(\"app_experiment\", dburl)\n",
    "app_dataexperimentsubj = app_dataset.merge(app_experiment, left_on=\"name\", right_on=\"dataset_id\").merge(app_subject, left_on=\"id\", right_on=\"experiment_id\", suffixes=(\"_experiment\", \"_subj\") )\n",
    "df_params = app_dataexperimentsubj[app_dataexperimentsubj['id_subj'].isin(df['study_students.1.player.pslvis_subject_id'])]\n",
    "df_subj_ds = df_params[[\"id_subj\", \"dataset_id\"]]\n",
    "df_subj_ds = dict(df_subj_ds.values)\n",
    "df_subj_ds"
   ]
  },
  {
   "cell_type": "code",
   "execution_count": 6,
   "metadata": {},
   "outputs": [
    {
     "data": {
      "text/html": [
       "<div>\n",
       "<style scoped>\n",
       "    .dataframe tbody tr th:only-of-type {\n",
       "        vertical-align: middle;\n",
       "    }\n",
       "\n",
       "    .dataframe tbody tr th {\n",
       "        vertical-align: top;\n",
       "    }\n",
       "\n",
       "    .dataframe thead th {\n",
       "        text-align: right;\n",
       "    }\n",
       "</style>\n",
       "<table border=\"1\" class=\"dataframe\">\n",
       "  <thead>\n",
       "    <tr style=\"text-align: right;\">\n",
       "      <th></th>\n",
       "      <th>subject_id</th>\n",
       "      <th>phase1</th>\n",
       "      <th>phase2</th>\n",
       "      <th>reference</th>\n",
       "    </tr>\n",
       "  </thead>\n",
       "  <tbody>\n",
       "    <tr>\n",
       "      <th>0</th>\n",
       "      <td>ZligBg</td>\n",
       "      <td>0.28664</td>\n",
       "      <td>0.28402</td>\n",
       "      <td>0.258986</td>\n",
       "    </tr>\n",
       "    <tr>\n",
       "      <th>1</th>\n",
       "      <td>8NEtzA</td>\n",
       "      <td>0.31909</td>\n",
       "      <td>0.22501</td>\n",
       "      <td>0.258986</td>\n",
       "    </tr>\n",
       "    <tr>\n",
       "      <th>2</th>\n",
       "      <td>LN3JTA</td>\n",
       "      <td>0.23675</td>\n",
       "      <td>0.24221</td>\n",
       "      <td>0.258986</td>\n",
       "    </tr>\n",
       "    <tr>\n",
       "      <th>3</th>\n",
       "      <td>Dlh1Ug</td>\n",
       "      <td>0.28710</td>\n",
       "      <td>0.24009</td>\n",
       "      <td>0.273635</td>\n",
       "    </tr>\n",
       "    <tr>\n",
       "      <th>4</th>\n",
       "      <td>AX6jaw</td>\n",
       "      <td>0.32824</td>\n",
       "      <td>0.25671</td>\n",
       "      <td>0.258986</td>\n",
       "    </tr>\n",
       "    <tr>\n",
       "      <th>5</th>\n",
       "      <td>GGPALw</td>\n",
       "      <td>0.14440</td>\n",
       "      <td>0.20282</td>\n",
       "      <td>0.288480</td>\n",
       "    </tr>\n",
       "    <tr>\n",
       "      <th>6</th>\n",
       "      <td>7P-hCA</td>\n",
       "      <td>0.25576</td>\n",
       "      <td>0.24768</td>\n",
       "      <td>0.248606</td>\n",
       "    </tr>\n",
       "  </tbody>\n",
       "</table>\n",
       "</div>"
      ],
      "text/plain": [
       "  subject_id   phase1   phase2  reference\n",
       "0     ZligBg  0.28664  0.28402   0.258986\n",
       "1     8NEtzA  0.31909  0.22501   0.258986\n",
       "2     LN3JTA  0.23675  0.24221   0.258986\n",
       "3     Dlh1Ug  0.28710  0.24009   0.273635\n",
       "4     AX6jaw  0.32824  0.25671   0.258986\n",
       "5     GGPALw  0.14440  0.20282   0.288480\n",
       "6     7P-hCA  0.25576  0.24768   0.248606"
      ]
     },
     "execution_count": 6,
     "metadata": {},
     "output_type": "execute_result"
    }
   ],
   "source": [
    "brier = df.filter(regex=r\".*brier|\\.pslvis_subject_id\")\n",
    "brier.columns = [\"subject_id\", \"phase1\", \"phase2\"]\n",
    "brier\n",
    "\n",
    "scores = []\n",
    "for subj in brier.subject_id:\n",
    "    psl = fit_psl(df_subj_ds[subj])\n",
    "    match df_subj_ds[subj]:\n",
    "        case \"schüler-ing-bin\":\n",
    "            data = pd.read_csv(\"dataset/schüler_pslvis_ERFOLG_sample_ONLY_Ingenieur Studium_binary.csv\")\n",
    "        case \"schüler-wiwi-bin\":\n",
    "            # this experiment \"Dlh1Ug\" has actually been done with the non-binary dataset, but was later relabeled\n",
    "            data = pd.read_csv(\"dataset/schüler_pslvis_ERFOLG_sample_ONLY_Rechts Wirtschafts Sozial Studium_binary.csv\")\n",
    "        case \"schüler-mathe-bin\":\n",
    "            data = pd.read_csv(\"dataset/schüler_pslvis_ERFOLG_sample_ONLY_Mathe Natur Studium_binary.csv\")\n",
    "        case \"schüler-*-bin\":\n",
    "            data = pd.read_csv(\"dataset/schüler_pslvis_ERFOLG_sample_binary.csv\")\n",
    "        case _:\n",
    "            raise ValueError()\n",
    "\n",
    "    X = data.iloc[:, 1:]\n",
    "    y = data.iloc[:, 0]\n",
    "    scores.append(psl.score(X,y,k=-1))\n",
    "brier.insert(3,\"reference\", scores)\n",
    "brier"
   ]
  },
  {
   "cell_type": "code",
   "execution_count": 7,
   "metadata": {},
   "outputs": [
    {
     "data": {
      "text/plain": [
       "Text(0.5, 1.0, 'Brier score')"
      ]
     },
     "execution_count": 7,
     "metadata": {},
     "output_type": "execute_result"
    },
    {
     "data": {
      "image/png": "[encoded data removed]",
      "text/plain": [
       "<Figure size 800x400 with 1 Axes>"
      ]
     },
     "metadata": {},
     "output_type": "display_data"
    }
   ],
   "source": [
    "plt.figure(figsize=(8,4))\n",
    "sns.barplot(brier.iloc[:,1:])\n",
    "plt.title(\"Brier score\")"
   ]
  }
 ],
 "metadata": {
  "kernelspec": {
   "display_name": "pslvis-ssQ-I2no-py3.12",
   "language": "python",
   "name": "python3"
  },
  "language_info": {
   "codemirror_mode": {
    "name": "ipython",
    "version": 3
   },
   "file_extension": ".py",
   "mimetype": "text/x-python",
   "name": "python",
   "nbconvert_exporter": "python",
   "pygments_lexer": "ipython3",
   "version": "3.12.6"
  }
 },
 "nbformat": 4,
 "nbformat_minor": 2
}
